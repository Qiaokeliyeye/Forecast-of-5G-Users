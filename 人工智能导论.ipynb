{
 "cells": [
  {
   "cell_type": "markdown",
   "id": "a64895a9-ce8a-41ad-84df-abb2f6fbdc1e",
   "metadata": {},
   "source": [
    "# 逻辑回归模型"
   ]
  },
  {
   "cell_type": "code",
   "execution_count": 1,
   "id": "04c58e6b-6a0b-4e7d-957b-5ffc54a5c035",
   "metadata": {},
   "outputs": [
    {
     "name": "stdout",
     "output_type": "stream",
     "text": [
      "Model accuracy: 0.9864\n",
      "Model AUC: 0.5002\n"
     ]
    }
   ],
   "source": [
    "import pandas as pd\n",
    "from sklearn.model_selection import train_test_split\n",
    "from sklearn.linear_model import LogisticRegression\n",
    "from sklearn.metrics import accuracy_score, classification_report\n",
    "from sklearn.metrics import roc_auc_score\n",
    "from sklearn.preprocessing import StandardScaler\n",
    "\n",
    "data = pd.read_csv('train.csv')\n",
    "X = data.drop(['id', 'target'], axis=1)\n",
    "y = data['target']\n",
    "\n",
    "scaler = StandardScaler()\n",
    "X_scaled = scaler.fit_transform(X)\n",
    "\n",
    "# Divide the dataset into training and testing sets\n",
    "X_train, X_test, y_train, y_test = train_test_split(X, y, test_size=0.2, random_state=42)\n",
    "\n",
    "# Try different solvers\n",
    "\n",
    "# model = LogisticRegression(solver='lbfgs')\n",
    "# Model AUC:0.4999\n",
    "\n",
    "# model = LogisticRegression(solver='sag')\n",
    "# Model AUC:0.5000\n",
    "\n",
    "# model = LogisticRegression(solver='saga')\n",
    "# Model AUC:0.5000\n",
    "\n",
    "# model = LogisticRegression(solver='newton-cg')\n",
    "# Model AUC:0.5002\n",
    "\n",
    "model = LogisticRegression(solver='liblinear')\n",
    "# Model AUC:0.5002\n",
    "\n",
    "# Training model\n",
    "model.fit(X_train, y_train)\n",
    "\n",
    "# Evaluate the model using the test set\n",
    "y_pred = model.predict(X_test)\n",
    "accuracy = accuracy_score(y_test, y_pred)\n",
    "print(f'Model accuracy: {accuracy:.4f}')\n",
    "\n",
    "# Calculate the AUC score of the model\n",
    "auc = roc_auc_score(y_test, y_pred)\n",
    "print(f'Model AUC: {auc:.4f}')"
   ]
  },
  {
   "cell_type": "markdown",
   "id": "56036bd1-0aa1-4597-acac-511ecea52faf",
   "metadata": {},
   "source": [
    "# 随机森林模型"
   ]
  },
  {
   "cell_type": "code",
   "execution_count": 2,
   "id": "f14abd87-11a8-4228-98ca-fb2c3914a795",
   "metadata": {},
   "outputs": [
    {
     "name": "stdout",
     "output_type": "stream",
     "text": [
      "Model accuracy: 0.9867\n",
      "Model AUC: 0.9181\n"
     ]
    }
   ],
   "source": [
    "import pandas as pd\n",
    "from sklearn.model_selection import train_test_split\n",
    "from sklearn.ensemble import RandomForestClassifier\n",
    "from sklearn.metrics import accuracy_score, classification_report\n",
    "from sklearn.metrics import roc_auc_score\n",
    "from sklearn.preprocessing import StandardScaler\n",
    "\n",
    "data = pd.read_csv('train.csv')\n",
    "X = data.drop(['id', 'target'], axis=1)\n",
    "y = data['target']\n",
    "\n",
    "# Feature standardization\n",
    "scaler = StandardScaler()\n",
    "X_scaled = scaler.fit_transform(X)\n",
    "\n",
    "# Divide the dataset into training and testing sets\n",
    "X_train, X_test, y_train, y_test = train_test_split(X_scaled, y, test_size=0.2, random_state=42)\n",
    "\n",
    "# Multiple experiments to determine the optimal parameters\n",
    "model = RandomForestClassifier(n_estimators=300, random_state=42)\n",
    "model.fit(X_train, y_train)\n",
    "\n",
    "# Evaluate the model using the test set\n",
    "y_pred = model.predict(X_test)\n",
    "accuracy = accuracy_score(y_test, y_pred)\n",
    "print(f'Model accuracy: {accuracy:.4f}')\n",
    "\n",
    "# Calculate the AUC score of the model\n",
    "y_pred_proba = model.predict_proba(X_test)[:, 1]\n",
    "auc = roc_auc_score(y_test, y_pred_proba)\n",
    "print(f'Model AUC: {auc:.4f}')"
   ]
  },
  {
   "cell_type": "markdown",
   "id": "4b3a2213-e183-43eb-91f6-4312abffbbed",
   "metadata": {},
   "source": [
    "# 决策树"
   ]
  },
  {
   "cell_type": "code",
   "execution_count": 3,
   "id": "82a099f4-8a22-447e-ae80-61db1dd382a0",
   "metadata": {},
   "outputs": [
    {
     "name": "stdout",
     "output_type": "stream",
     "text": [
      "Model accuracy: 0.9749\n",
      "Model AUC: 0.5689\n"
     ]
    }
   ],
   "source": [
    "import pandas as pd\n",
    "from sklearn.model_selection import train_test_split\n",
    "from sklearn.tree import DecisionTreeClassifier\n",
    "from sklearn.metrics import accuracy_score, classification_report\n",
    "from sklearn.metrics import roc_auc_score\n",
    "from sklearn.preprocessing import StandardScaler\n",
    "\n",
    "data = pd.read_csv('train.csv')\n",
    "X = data.drop(['id', 'target'], axis=1)\n",
    "y = data['target']\n",
    "\n",
    "# Feature standardization\n",
    "scaler = StandardScaler()\n",
    "X_scaled = scaler.fit_transform(X)\n",
    "\n",
    "# Divide the dataset into training and testing sets\n",
    "X_train, X_test, y_train, y_test = train_test_split(X_scaled, y, test_size=0.2, random_state=42)\n",
    "\n",
    "model = DecisionTreeClassifier()\n",
    "model.fit(X_train, y_train)\n",
    "\n",
    "# Evaluate the model using the test set\n",
    "y_pred = model.predict(X_test)\n",
    "accuracy = accuracy_score(y_test, y_pred)\n",
    "print(f'Model accuracy: {accuracy:.4f}')\n",
    "\n",
    "# Calculate the AUC score of the model\n",
    "y_pred_proba = model.predict_proba(X_test)[:, 1]  # 获取正类的概率\n",
    "auc = roc_auc_score(y_test, y_pred_proba)\n",
    "print(f'Model AUC: {auc:.4f}')"
   ]
  },
  {
   "cell_type": "markdown",
   "id": "5116a03e-b33c-4da8-9f76-eb8e102a0c1f",
   "metadata": {},
   "source": [
    "# 线性判别分析"
   ]
  },
  {
   "cell_type": "code",
   "execution_count": 4,
   "id": "8933fddc-3a2b-4dcf-a861-f16f4dc3f656",
   "metadata": {},
   "outputs": [
    {
     "name": "stdout",
     "output_type": "stream",
     "text": [
      "Model accuracy: 0.9834\n",
      "Model AUC: 0.8527\n"
     ]
    }
   ],
   "source": [
    "import pandas as pd\n",
    "\n",
    "from sklearn.model_selection import train_test_split\n",
    "from sklearn.discriminant_analysis import LinearDiscriminantAnalysis\n",
    "from sklearn.metrics import accuracy_score, classification_report\n",
    "from sklearn.metrics import roc_auc_score\n",
    "from sklearn.preprocessing import StandardScaler\n",
    "\n",
    "data = pd.read_csv('train.csv')\n",
    "X = data.drop(['id', 'target'], axis=1)\n",
    "y = data['target']\n",
    "\n",
    "# Feature standardization\n",
    "scaler = StandardScaler()\n",
    "X_scaled = scaler.fit_transform(X)\n",
    "\n",
    "# Divide the dataset into training and testing sets\n",
    "X_train, X_test, y_train, y_test = train_test_split(X_scaled, y, test_size=0.2, random_state=42)\n",
    "\n",
    "lda_model = LinearDiscriminantAnalysis()\n",
    "\n",
    "lda_model.fit(X_train, y_train)\n",
    "y_pred = lda_model.predict(X_test)\n",
    "\n",
    "# Evaluate the model using the test set\n",
    "accuracy = accuracy_score(y_test, y_pred)\n",
    "print(f'Model accuracy: {accuracy:.4f}')\n",
    "\n",
    "# Calculate the AUC score of the model\n",
    "y_pred_scores = lda_model.decision_function(X_test)\n",
    "auc = roc_auc_score(y_test, y_pred_scores)\n",
    "print(f'Model AUC: {auc:.4f}')"
   ]
  },
  {
   "cell_type": "markdown",
   "id": "eb0e7e69-725a-43fc-9ee9-aa7770dee55a",
   "metadata": {},
   "source": [
    "# K近邻"
   ]
  },
  {
   "cell_type": "code",
   "execution_count": 5,
   "id": "a7518f85-fd40-4cd3-94e4-64877cfd3c89",
   "metadata": {},
   "outputs": [
    {
     "name": "stderr",
     "output_type": "stream",
     "text": [
      "C:\\Python311\\Lib\\site-packages\\joblib\\externals\\loky\\backend\\context.py:136: UserWarning: Could not find the number of physical cores for the following reason:\n",
      "[WinError 2] 系统找不到指定的文件。\n",
      "Returning the number of logical cores instead. You can silence this warning by setting LOKY_MAX_CPU_COUNT to the number of cores you want to use.\n",
      "  warnings.warn(\n",
      "  File \"C:\\Python311\\Lib\\site-packages\\joblib\\externals\\loky\\backend\\context.py\", line 257, in _count_physical_cores\n",
      "    cpu_info = subprocess.run(\n",
      "               ^^^^^^^^^^^^^^^\n",
      "  File \"C:\\Python311\\Lib\\subprocess.py\", line 548, in run\n",
      "    with Popen(*popenargs, **kwargs) as process:\n",
      "         ^^^^^^^^^^^^^^^^^^^^^^^^^^^\n",
      "  File \"C:\\Python311\\Lib\\subprocess.py\", line 1026, in __init__\n",
      "    self._execute_child(args, executable, preexec_fn, close_fds,\n",
      "  File \"C:\\Python311\\Lib\\subprocess.py\", line 1538, in _execute_child\n",
      "    hp, ht, pid, tid = _winapi.CreateProcess(executable, args,\n",
      "                       ^^^^^^^^^^^^^^^^^^^^^^^^^^^^^^^^^^^^^^^\n"
     ]
    },
    {
     "name": "stdout",
     "output_type": "stream",
     "text": [
      "Model accuracy: 0.9866\n",
      "Model AUC: 0.7250\n"
     ]
    }
   ],
   "source": [
    "import pandas as pd\n",
    "from sklearn.model_selection import train_test_split\n",
    "from sklearn.neighbors import KNeighborsClassifier\n",
    "from sklearn.metrics import accuracy_score, classification_report, roc_auc_score\n",
    "from sklearn.preprocessing import StandardScaler\n",
    "\n",
    "data = pd.read_csv('train.csv')\n",
    "X = data.drop(['id', 'target'], axis=1)\n",
    "y = data['target']\n",
    "\n",
    "# Feature standardization\n",
    "scaler = StandardScaler()\n",
    "X_scaled = scaler.fit_transform(X)\n",
    "\n",
    "# Divide the dataset into training and testing sets\n",
    "X_train, X_test, y_train, y_test = train_test_split(X_scaled, y, test_size=0.2, random_state=42)\n",
    "knn_model = KNeighborsClassifier(n_neighbors=10)\n",
    "\n",
    "knn_model.fit(X_train, y_train)\n",
    "\n",
    "# Evaluate the model using the test set\n",
    "y_pred = knn_model.predict(X_test)\n",
    "accuracy = accuracy_score(y_test, y_pred)\n",
    "print(f'Model accuracy: {accuracy:.4f}')\n",
    "\n",
    "# Calculate the AUC score of the model\n",
    "y_pred_proba = knn_model.predict_proba(X_test)[:, 1]\n",
    "auc = roc_auc_score(y_test, y_pred_proba)\n",
    "print(f'Model AUC: {auc:.4f}')"
   ]
  },
  {
   "cell_type": "markdown",
   "id": "2cee5d4d-4d07-44fb-a027-5b1df2e9eb18",
   "metadata": {},
   "source": [
    "# 高斯朴素贝叶斯"
   ]
  },
  {
   "cell_type": "code",
   "execution_count": 6,
   "id": "1f02e006-612b-40d5-8743-d9d87e6e8632",
   "metadata": {},
   "outputs": [
    {
     "name": "stdout",
     "output_type": "stream",
     "text": [
      "Model accuracy: 0.3633\n",
      "Model AUC: 0.7513\n"
     ]
    }
   ],
   "source": [
    "import pandas as pd\n",
    "from sklearn.model_selection import train_test_split\n",
    "from sklearn.naive_bayes import GaussianNB\n",
    "from sklearn.metrics import accuracy_score, classification_report, roc_auc_score\n",
    "from sklearn.preprocessing import StandardScaler\n",
    "\n",
    "data = pd.read_csv('train.csv')\n",
    "X = data.drop(['id', 'target'], axis=1)\n",
    "y = data['target']\n",
    "\n",
    "# Feature standardization\n",
    "scaler = StandardScaler()\n",
    "X_scaled = scaler.fit_transform(X)\n",
    "\n",
    "# Divide the dataset into training and testing sets\n",
    "X_train, X_test, y_train, y_test = train_test_split(X_scaled, y, test_size=0.2, random_state=42)\n",
    "gnb_model = GaussianNB()\n",
    "\n",
    "gnb_model.fit(X_train, y_train)\n",
    "\n",
    "# Evaluate the model using the test set\n",
    "y_pred = gnb_model.predict(X_test)\n",
    "accuracy = accuracy_score(y_test, y_pred)\n",
    "print(f'Model accuracy: {accuracy:.4f}')\n",
    "\n",
    "# Calculate the AUC score of the model\n",
    "y_pred_proba = gnb_model.predict_proba(X_test)[:, 1]\n",
    "auc = roc_auc_score(y_test, y_pred_proba)\n",
    "print(f'Model AUC: {auc:.4f}')"
   ]
  }
 ],
 "metadata": {
  "kernelspec": {
   "display_name": "Python 3 (ipykernel)",
   "language": "python",
   "name": "python3"
  },
  "language_info": {
   "codemirror_mode": {
    "name": "ipython",
    "version": 3
   },
   "file_extension": ".py",
   "mimetype": "text/x-python",
   "name": "python",
   "nbconvert_exporter": "python",
   "pygments_lexer": "ipython3",
   "version": "3.11.5"
  }
 },
 "nbformat": 4,
 "nbformat_minor": 5
}
